{
 "cells": [
  {
   "cell_type": "markdown",
   "id": "08322932",
   "metadata": {},
   "source": [
    "#### ML Assignment: Retail Project"
   ]
  },
  {
   "cell_type": "markdown",
   "id": "683bcd6a",
   "metadata": {},
   "source": [
    "**Problem statement**\n",
    "\n",
    "- A retail company “ABC Private Limited” wants to understand the customer purchase\n",
    "behaviour (specifically, purchase amount) against various products of different\n",
    "categories. They have shared purchase summary of various customers for selected\n",
    "high volume products from last month.\n",
    "\n",
    "- The data set also contains customer demographics (age, gender, marital status,\n",
    "city_type, stay_in_current_city), product details (product_id and product category) and\n",
    "Total purchase_amount from last month.\n",
    "\n",
    "- Now, they want to build a model to predict the purchase amount of customer against\n",
    "various products which will help them to create personalized offer for customers\n",
    "against different products"
   ]
  },
  {
   "cell_type": "markdown",
   "id": "bfae9815",
   "metadata": {},
   "source": [
    "### Questions\n",
    "\n",
    "1. Average Purchase amount?\n",
    "2. Counting and Removing null values\n",
    "3. How many distinct values per column?\n",
    "4. Count category values within each of the following column:\n",
    "-  Gender\n",
    "- Age\n",
    "- City_Category\n",
    "- Stay_In_Current_City_Years\n",
    "5. Calculate average Purchase for each of the following columns:\n",
    "- Gender\n",
    "- Age\n",
    "- City_Category\n",
    "- Stay_In_Current_City_Years\n",
    "- Marital_Status\n",
    "6. Label encode the following columns:\n",
    "- Age\n",
    "- Gender\n",
    "- Stay_In_Current_City_Years\n",
    "- City_Category\n",
    "7. One-Hot encode following columns:\n",
    "- Gender\n",
    "- City_Category\n",
    "- Occupation\n",
    "8. Build a baseline model using any of the ML algorithms.\n",
    "9. Model improvement with Grid-Search CV\n",
    "10.Create a Spark ML Pipeline for the final model"
   ]
  },
  {
   "cell_type": "markdown",
   "id": "dc9db697",
   "metadata": {},
   "source": [
    "#### Import Required Libraries"
   ]
  },
  {
   "cell_type": "code",
   "execution_count": 15,
   "id": "6dd06d6d",
   "metadata": {},
   "outputs": [],
   "source": [
    "# importing the required libraries\n",
    "from pyspark.sql import SparkSession\n",
    "import pyspark.sql.types as tp\n",
    "from pyspark.sql import functions as F\n",
    "\n",
    "# libraries to make plots\n",
    "import matplotlib.pyplot as plt\n",
    "%matplotlib inline"
   ]
  },
  {
   "cell_type": "code",
   "execution_count": 16,
   "id": "b6fb240c",
   "metadata": {},
   "outputs": [
    {
     "name": "stdout",
     "output_type": "stream",
     "text": [
      "Defaulting to user installation because normal site-packages is not writeable\n",
      "Requirement already satisfied: plotly in ./.local/lib/python3.6/site-packages (5.9.0)\n",
      "Requirement already satisfied: tenacity>=6.2.0 in ./.local/lib/python3.6/site-packages (from plotly) (8.0.1)\n",
      "Note: you may need to restart the kernel to use updated packages.\n"
     ]
    }
   ],
   "source": [
    "pip install plotly"
   ]
  },
  {
   "cell_type": "code",
   "execution_count": 17,
   "id": "cca1ac14",
   "metadata": {},
   "outputs": [
    {
     "name": "stdout",
     "output_type": "stream",
     "text": [
      "Defaulting to user installation because normal site-packages is not writeable\n",
      "Requirement already satisfied: cufflinks in ./.local/lib/python3.6/site-packages (0.17.3)\n",
      "Requirement already satisfied: colorlover>=0.2.1 in ./.local/lib/python3.6/site-packages (from cufflinks) (0.3.0)\n",
      "Requirement already satisfied: pandas>=0.19.2 in /opt/anaconda3/envs/beakerx/lib/python3.6/site-packages (from cufflinks) (1.1.5)\n",
      "Requirement already satisfied: six>=1.9.0 in /opt/anaconda3/envs/beakerx/lib/python3.6/site-packages (from cufflinks) (1.16.0)\n",
      "Requirement already satisfied: ipython>=5.3.0 in /opt/anaconda3/envs/beakerx/lib/python3.6/site-packages (from cufflinks) (7.16.1)\n",
      "Requirement already satisfied: setuptools>=34.4.1 in /opt/anaconda3/envs/beakerx/lib/python3.6/site-packages (from cufflinks) (49.6.0.post20210108)\n",
      "Requirement already satisfied: ipywidgets>=7.0.0 in /opt/anaconda3/envs/beakerx/lib/python3.6/site-packages (from cufflinks) (7.5.1)\n",
      "Requirement already satisfied: numpy>=1.9.2 in /opt/anaconda3/envs/beakerx/lib/python3.6/site-packages (from cufflinks) (1.19.5)\n",
      "Requirement already satisfied: plotly>=4.1.1 in ./.local/lib/python3.6/site-packages (from cufflinks) (5.9.0)\n",
      "Requirement already satisfied: jedi>=0.10 in ./.local/lib/python3.6/site-packages (from ipython>=5.3.0->cufflinks) (0.18.1)\n",
      "Requirement already satisfied: prompt-toolkit!=3.0.0,!=3.0.1,<3.1.0,>=2.0.0 in /opt/anaconda3/envs/beakerx/lib/python3.6/site-packages (from ipython>=5.3.0->cufflinks) (3.0.18)\n",
      "Requirement already satisfied: traitlets>=4.2 in /opt/anaconda3/envs/beakerx/lib/python3.6/site-packages (from ipython>=5.3.0->cufflinks) (4.3.3)\n",
      "Requirement already satisfied: pickleshare in /opt/anaconda3/envs/beakerx/lib/python3.6/site-packages (from ipython>=5.3.0->cufflinks) (0.7.5)\n",
      "Requirement already satisfied: pexpect in /opt/anaconda3/envs/beakerx/lib/python3.6/site-packages (from ipython>=5.3.0->cufflinks) (4.8.0)\n",
      "Requirement already satisfied: decorator in /opt/anaconda3/envs/beakerx/lib/python3.6/site-packages (from ipython>=5.3.0->cufflinks) (4.4.2)\n",
      "Requirement already satisfied: backcall in /opt/anaconda3/envs/beakerx/lib/python3.6/site-packages (from ipython>=5.3.0->cufflinks) (0.2.0)\n",
      "Requirement already satisfied: pygments in /opt/anaconda3/envs/beakerx/lib/python3.6/site-packages (from ipython>=5.3.0->cufflinks) (2.9.0)\n",
      "Requirement already satisfied: widgetsnbextension~=3.5.0 in /opt/anaconda3/envs/beakerx/lib/python3.6/site-packages (from ipywidgets>=7.0.0->cufflinks) (3.5.1)\n",
      "Requirement already satisfied: ipykernel>=4.5.1 in /opt/anaconda3/envs/beakerx/lib/python3.6/site-packages (from ipywidgets>=7.0.0->cufflinks) (5.5.5)\n",
      "Requirement already satisfied: nbformat>=4.2.0 in /opt/anaconda3/envs/beakerx/lib/python3.6/site-packages (from ipywidgets>=7.0.0->cufflinks) (5.1.3)\n",
      "Requirement already satisfied: tornado>=4.2 in /opt/anaconda3/envs/beakerx/lib/python3.6/site-packages (from ipykernel>=4.5.1->ipywidgets>=7.0.0->cufflinks) (6.1)\n",
      "Requirement already satisfied: jupyter-client in /opt/anaconda3/envs/beakerx/lib/python3.6/site-packages (from ipykernel>=4.5.1->ipywidgets>=7.0.0->cufflinks) (6.1.12)\n",
      "Requirement already satisfied: parso<0.9.0,>=0.8.0 in /opt/anaconda3/envs/beakerx/lib/python3.6/site-packages (from jedi>=0.10->ipython>=5.3.0->cufflinks) (0.8.2)\n",
      "Requirement already satisfied: jsonschema!=2.5.0,>=2.4 in /opt/anaconda3/envs/beakerx/lib/python3.6/site-packages (from nbformat>=4.2.0->ipywidgets>=7.0.0->cufflinks) (3.2.0)\n",
      "Requirement already satisfied: ipython-genutils in /opt/anaconda3/envs/beakerx/lib/python3.6/site-packages (from nbformat>=4.2.0->ipywidgets>=7.0.0->cufflinks) (0.2.0)\n",
      "Requirement already satisfied: jupyter-core in /opt/anaconda3/envs/beakerx/lib/python3.6/site-packages (from nbformat>=4.2.0->ipywidgets>=7.0.0->cufflinks) (4.7.1)\n",
      "Requirement already satisfied: attrs>=17.4.0 in /opt/anaconda3/envs/beakerx/lib/python3.6/site-packages (from jsonschema!=2.5.0,>=2.4->nbformat>=4.2.0->ipywidgets>=7.0.0->cufflinks) (20.3.0)\n",
      "Requirement already satisfied: importlib-metadata in /opt/anaconda3/envs/beakerx/lib/python3.6/site-packages (from jsonschema!=2.5.0,>=2.4->nbformat>=4.2.0->ipywidgets>=7.0.0->cufflinks) (4.5.0)\n",
      "Requirement already satisfied: pyrsistent>=0.14.0 in /opt/anaconda3/envs/beakerx/lib/python3.6/site-packages (from jsonschema!=2.5.0,>=2.4->nbformat>=4.2.0->ipywidgets>=7.0.0->cufflinks) (0.17.3)\n",
      "Requirement already satisfied: python-dateutil>=2.7.3 in /opt/anaconda3/envs/beakerx/lib/python3.6/site-packages (from pandas>=0.19.2->cufflinks) (2.8.1)\n",
      "Requirement already satisfied: pytz>=2017.2 in /opt/anaconda3/envs/beakerx/lib/python3.6/site-packages (from pandas>=0.19.2->cufflinks) (2021.1)\n",
      "Requirement already satisfied: tenacity>=6.2.0 in ./.local/lib/python3.6/site-packages (from plotly>=4.1.1->cufflinks) (8.0.1)\n",
      "Requirement already satisfied: wcwidth in /opt/anaconda3/envs/beakerx/lib/python3.6/site-packages (from prompt-toolkit!=3.0.0,!=3.0.1,<3.1.0,>=2.0.0->ipython>=5.3.0->cufflinks) (0.2.5)\n",
      "Requirement already satisfied: notebook>=4.4.1 in /opt/anaconda3/envs/beakerx/lib/python3.6/site-packages (from widgetsnbextension~=3.5.0->ipywidgets>=7.0.0->cufflinks) (6.3.0)\n",
      "Requirement already satisfied: Send2Trash>=1.5.0 in /opt/anaconda3/envs/beakerx/lib/python3.6/site-packages (from notebook>=4.4.1->widgetsnbextension~=3.5.0->ipywidgets>=7.0.0->cufflinks) (1.5.0)\n",
      "Requirement already satisfied: pyzmq>=17 in /opt/anaconda3/envs/beakerx/lib/python3.6/site-packages (from notebook>=4.4.1->widgetsnbextension~=3.5.0->ipywidgets>=7.0.0->cufflinks) (22.1.0)\n",
      "Requirement already satisfied: terminado>=0.8.3 in /opt/anaconda3/envs/beakerx/lib/python3.6/site-packages (from notebook>=4.4.1->widgetsnbextension~=3.5.0->ipywidgets>=7.0.0->cufflinks) (0.10.1)\n",
      "Requirement already satisfied: argon2-cffi in /opt/anaconda3/envs/beakerx/lib/python3.6/site-packages (from notebook>=4.4.1->widgetsnbextension~=3.5.0->ipywidgets>=7.0.0->cufflinks) (20.1.0)\n",
      "Requirement already satisfied: prometheus-client in /opt/anaconda3/envs/beakerx/lib/python3.6/site-packages (from notebook>=4.4.1->widgetsnbextension~=3.5.0->ipywidgets>=7.0.0->cufflinks) (0.11.0)\n",
      "Requirement already satisfied: nbconvert in /opt/anaconda3/envs/beakerx/lib/python3.6/site-packages (from notebook>=4.4.1->widgetsnbextension~=3.5.0->ipywidgets>=7.0.0->cufflinks) (5.6.1)\n",
      "Requirement already satisfied: jinja2 in /opt/anaconda3/envs/beakerx/lib/python3.6/site-packages (from notebook>=4.4.1->widgetsnbextension~=3.5.0->ipywidgets>=7.0.0->cufflinks) (3.0.1)\n",
      "Requirement already satisfied: ptyprocess in /opt/anaconda3/envs/beakerx/lib/python3.6/site-packages (from terminado>=0.8.3->notebook>=4.4.1->widgetsnbextension~=3.5.0->ipywidgets>=7.0.0->cufflinks) (0.7.0)\n",
      "Requirement already satisfied: cffi>=1.0.0 in /opt/anaconda3/envs/beakerx/lib/python3.6/site-packages (from argon2-cffi->notebook>=4.4.1->widgetsnbextension~=3.5.0->ipywidgets>=7.0.0->cufflinks) (1.14.5)\n",
      "Requirement already satisfied: pycparser in /opt/anaconda3/envs/beakerx/lib/python3.6/site-packages (from cffi>=1.0.0->argon2-cffi->notebook>=4.4.1->widgetsnbextension~=3.5.0->ipywidgets>=7.0.0->cufflinks) (2.20)\n",
      "Requirement already satisfied: zipp>=0.5 in /opt/anaconda3/envs/beakerx/lib/python3.6/site-packages (from importlib-metadata->jsonschema!=2.5.0,>=2.4->nbformat>=4.2.0->ipywidgets>=7.0.0->cufflinks) (3.4.1)\n",
      "Requirement already satisfied: typing-extensions>=3.6.4 in /opt/anaconda3/envs/beakerx/lib/python3.6/site-packages (from importlib-metadata->jsonschema!=2.5.0,>=2.4->nbformat>=4.2.0->ipywidgets>=7.0.0->cufflinks) (3.10.0.0)\n",
      "Requirement already satisfied: MarkupSafe>=2.0 in /opt/anaconda3/envs/beakerx/lib/python3.6/site-packages (from jinja2->notebook>=4.4.1->widgetsnbextension~=3.5.0->ipywidgets>=7.0.0->cufflinks) (2.0.1)\n",
      "Requirement already satisfied: mistune<2,>=0.8.1 in /opt/anaconda3/envs/beakerx/lib/python3.6/site-packages (from nbconvert->notebook>=4.4.1->widgetsnbextension~=3.5.0->ipywidgets>=7.0.0->cufflinks) (0.8.4)\n",
      "Requirement already satisfied: bleach in /opt/anaconda3/envs/beakerx/lib/python3.6/site-packages (from nbconvert->notebook>=4.4.1->widgetsnbextension~=3.5.0->ipywidgets>=7.0.0->cufflinks) (3.3.0)\n",
      "Requirement already satisfied: testpath in /opt/anaconda3/envs/beakerx/lib/python3.6/site-packages (from nbconvert->notebook>=4.4.1->widgetsnbextension~=3.5.0->ipywidgets>=7.0.0->cufflinks) (0.5.0)\n",
      "Requirement already satisfied: defusedxml in /opt/anaconda3/envs/beakerx/lib/python3.6/site-packages (from nbconvert->notebook>=4.4.1->widgetsnbextension~=3.5.0->ipywidgets>=7.0.0->cufflinks) (0.7.1)\n",
      "Requirement already satisfied: pandocfilters>=1.4.1 in /opt/anaconda3/envs/beakerx/lib/python3.6/site-packages (from nbconvert->notebook>=4.4.1->widgetsnbextension~=3.5.0->ipywidgets>=7.0.0->cufflinks) (1.4.2)\n",
      "Requirement already satisfied: entrypoints>=0.2.2 in /opt/anaconda3/envs/beakerx/lib/python3.6/site-packages (from nbconvert->notebook>=4.4.1->widgetsnbextension~=3.5.0->ipywidgets>=7.0.0->cufflinks) (0.3)\n",
      "Requirement already satisfied: webencodings in /opt/anaconda3/envs/beakerx/lib/python3.6/site-packages (from bleach->nbconvert->notebook>=4.4.1->widgetsnbextension~=3.5.0->ipywidgets>=7.0.0->cufflinks) (0.5.1)\n",
      "Requirement already satisfied: packaging in /opt/anaconda3/envs/beakerx/lib/python3.6/site-packages (from bleach->nbconvert->notebook>=4.4.1->widgetsnbextension~=3.5.0->ipywidgets>=7.0.0->cufflinks) (20.9)\n",
      "Requirement already satisfied: pyparsing>=2.0.2 in /opt/anaconda3/envs/beakerx/lib/python3.6/site-packages (from packaging->bleach->nbconvert->notebook>=4.4.1->widgetsnbextension~=3.5.0->ipywidgets>=7.0.0->cufflinks) (2.4.7)\n",
      "Note: you may need to restart the kernel to use updated packages.\n"
     ]
    }
   ],
   "source": [
    "pip install cufflinks"
   ]
  },
  {
   "cell_type": "code",
   "execution_count": 18,
   "id": "22ef2b1b",
   "metadata": {},
   "outputs": [
    {
     "name": "stdout",
     "output_type": "stream",
     "text": [
      "Defaulting to user installation because normal site-packages is not writeable\n",
      "Requirement already satisfied: chart-studio in ./.local/lib/python3.6/site-packages (1.1.0)\n",
      "Requirement already satisfied: plotly in ./.local/lib/python3.6/site-packages (from chart-studio) (5.9.0)\n",
      "Requirement already satisfied: requests in /opt/anaconda3/envs/beakerx/lib/python3.6/site-packages (from chart-studio) (2.25.1)\n",
      "Requirement already satisfied: retrying>=1.3.3 in ./.local/lib/python3.6/site-packages (from chart-studio) (1.3.3)\n",
      "Requirement already satisfied: six in /opt/anaconda3/envs/beakerx/lib/python3.6/site-packages (from chart-studio) (1.16.0)\n",
      "Requirement already satisfied: tenacity>=6.2.0 in ./.local/lib/python3.6/site-packages (from plotly->chart-studio) (8.0.1)\n",
      "Requirement already satisfied: chardet<5,>=3.0.2 in /opt/anaconda3/envs/beakerx/lib/python3.6/site-packages (from requests->chart-studio) (4.0.0)\n",
      "Requirement already satisfied: urllib3<1.27,>=1.21.1 in /opt/anaconda3/envs/beakerx/lib/python3.6/site-packages (from requests->chart-studio) (1.26.5)\n",
      "Requirement already satisfied: certifi>=2017.4.17 in /opt/anaconda3/envs/beakerx/lib/python3.6/site-packages (from requests->chart-studio) (2021.5.30)\n",
      "Requirement already satisfied: idna<3,>=2.5 in /opt/anaconda3/envs/beakerx/lib/python3.6/site-packages (from requests->chart-studio) (2.10)\n",
      "Note: you may need to restart the kernel to use updated packages.\n"
     ]
    }
   ],
   "source": [
    "pip install chart-studio"
   ]
  },
  {
   "cell_type": "code",
   "execution_count": 78,
   "id": "89c36333",
   "metadata": {},
   "outputs": [],
   "source": [
    "from pyspark.sql import SQLContext,Row\n",
    "from pyspark import SparkContext\n",
    "from pyspark.mllib.stat import Statistics\n",
    "from pyspark.mllib.linalg import Vectors\n",
    "import pyspark.sql.functions as func\n",
    "import pandas as pd\n",
    "import plotly.graph_objs as go\n",
    "import chart_studio.plotly as py\n",
    "\n",
    "#For Interactive Plots\n",
    "from plotly import __version__\n",
    "from plotly.offline import download_plotlyjs, init_notebook_mode, plot, iplot\n",
    "import cufflinks as cf\n",
    "from plotly.offline import iplot\n",
    "\n",
    "\n",
    "import pyspark\n",
    "import numpy as np\n",
    "import pandas as pd\n",
    "import seaborn as sns\n",
    "import matplotlib.pyplot as plt\n",
    "\n",
    "%matplotlib inline"
   ]
  },
  {
   "cell_type": "markdown",
   "id": "50320f20",
   "metadata": {},
   "source": [
    "#### Create Spark Session"
   ]
  },
  {
   "cell_type": "code",
   "execution_count": 20,
   "id": "0a1cbf9e",
   "metadata": {},
   "outputs": [
    {
     "name": "stderr",
     "output_type": "stream",
     "text": [
      "/home/ana003162/.local/lib/python3.6/site-packages/pyspark/context.py:238: FutureWarning:\n",
      "\n",
      "Python 3.6 support is deprecated in Spark 3.2.\n",
      "\n"
     ]
    }
   ],
   "source": [
    "spark = SparkSession.builder.getOrCreate()"
   ]
  },
  {
   "cell_type": "markdown",
   "id": "5937c80e",
   "metadata": {},
   "source": [
    "#### Reading the Data"
   ]
  },
  {
   "cell_type": "code",
   "execution_count": 21,
   "id": "49e365c5",
   "metadata": {},
   "outputs": [],
   "source": [
    "# reading the train data\n",
    "train_data = spark.read.csv(\"train.csv\",inferSchema=True, header=True)\n",
    "\n",
    "# reading the test data\n",
    "test_data  = spark.read.csv(\"test.csv\", inferSchema=True, header=True)"
   ]
  },
  {
   "cell_type": "markdown",
   "id": "27c344dc",
   "metadata": {},
   "source": [
    "#### Data Exploration"
   ]
  },
  {
   "cell_type": "markdown",
   "id": "a7907e90",
   "metadata": {},
   "source": [
    "1. Variable Identification\n",
    "- Data Type of the columns\n",
    "\n",
    "2. Perform Univariate and Bivariate Analysis"
   ]
  },
  {
   "cell_type": "markdown",
   "id": "ce8e32b8",
   "metadata": {},
   "source": [
    "#### Variable Identification"
   ]
  },
  {
   "cell_type": "code",
   "execution_count": 22,
   "id": "4faad5d6",
   "metadata": {},
   "outputs": [
    {
     "name": "stdout",
     "output_type": "stream",
     "text": [
      "root\n",
      " |-- User_ID: integer (nullable = true)\n",
      " |-- Product_ID: string (nullable = true)\n",
      " |-- Gender: string (nullable = true)\n",
      " |-- Age: string (nullable = true)\n",
      " |-- Occupation: integer (nullable = true)\n",
      " |-- City_Category: string (nullable = true)\n",
      " |-- Stay_In_Current_City_Years: string (nullable = true)\n",
      " |-- Marital_Status: integer (nullable = true)\n",
      " |-- Product_Category_1: integer (nullable = true)\n",
      " |-- Product_Category_2: integer (nullable = true)\n",
      " |-- Product_Category_3: integer (nullable = true)\n",
      " |-- Purchase: integer (nullable = true)\n",
      "\n"
     ]
    }
   ],
   "source": [
    "# data type of the columns\n",
    "train_data.printSchema()"
   ]
  },
  {
   "cell_type": "markdown",
   "id": "f62f60c9",
   "metadata": {},
   "source": [
    "** Numerical **\n",
    "\n",
    "- User_ID\n",
    "- Occupation \n",
    "- Marital_Status ( It is numerical in nature but still values are code representing different status like married or unmarried so we will treat it as categorical variable)\n",
    "- Purchase\n",
    "- Product_Category_1: integer (nullable = true)\n",
    "- Product_Category_2: integer (nullable = true)\n",
    "- Product_Category_3: integer (nullable = true)\n",
    "- Purchase: integer (nullable = true)\n",
    "\n",
    "\n",
    "** Categorical **\n",
    "\n",
    "- Product_ID\n",
    "- Gender\n",
    "- Age\n",
    "- City_Catgeory\n",
    "- Stay_In_Current_City_Years\n",
    "\n",
    "\n"
   ]
  },
  {
   "cell_type": "markdown",
   "id": "3a22c69f",
   "metadata": {},
   "source": [
    "#### Check For  NULL Values in Each Column"
   ]
  },
  {
   "cell_type": "code",
   "execution_count": 23,
   "id": "624e088c",
   "metadata": {},
   "outputs": [
    {
     "name": "stdout",
     "output_type": "stream",
     "text": [
      "User_ID 0\n",
      "Product_ID 0\n",
      "Gender 0\n",
      "Age 0\n",
      "Occupation 0\n",
      "City_Category 0\n",
      "Stay_In_Current_City_Years 0\n",
      "Marital_Status 0\n",
      "Product_Category_1 0\n",
      "Product_Category_2 173638\n",
      "Product_Category_3 383247\n",
      "Purchase 0\n"
     ]
    }
   ],
   "source": [
    "### null values in each column\n",
    "for c in train_data.columns:\n",
    "    # define the condition\n",
    "    missing_values = F.isnull(c)\n",
    "    \n",
    "    # filter the data with condition and count the number of data points\n",
    "    missing_values = train_data.filter(missing_values).count()\n",
    "    \n",
    "    # print the result\n",
    "    print(c, missing_values)"
   ]
  },
  {
   "cell_type": "markdown",
   "id": "ea784212",
   "metadata": {},
   "source": [
    "We have null values in only the following columns:\n",
    "- Product_Category_2 173638\n",
    "- Product_Category_3 383247"
   ]
  },
  {
   "cell_type": "markdown",
   "id": "029e85d7",
   "metadata": {},
   "source": [
    "#### Distinct Values in Each Column"
   ]
  },
  {
   "cell_type": "code",
   "execution_count": 24,
   "id": "b252928c",
   "metadata": {},
   "outputs": [
    {
     "name": "stdout",
     "output_type": "stream",
     "text": [
      "+-----------------------+--------------------------+----------------------+-------------------+--------------------------+-----------------------------+------------------------------------------+------------------------------+----------------------------------+----------------------------------+----------------------------------+\n",
      "|count(DISTINCT User_ID)|count(DISTINCT Product_ID)|count(DISTINCT Gender)|count(DISTINCT Age)|count(DISTINCT Occupation)|count(DISTINCT City_Category)|count(DISTINCT Stay_In_Current_City_Years)|count(DISTINCT Marital_Status)|count(DISTINCT Product_Category_1)|count(DISTINCT Product_Category_2)|count(DISTINCT Product_Category_3)|\n",
      "+-----------------------+--------------------------+----------------------+-------------------+--------------------------+-----------------------------+------------------------------------------+------------------------------+----------------------------------+----------------------------------+----------------------------------+\n",
      "|                   5891|                      3631|                     2|                  7|                        21|                            3|                                         5|                             2|                                20|                                17|                                15|\n",
      "+-----------------------+--------------------------+----------------------+-------------------+--------------------------+-----------------------------+------------------------------------------+------------------------------+----------------------------------+----------------------------------+----------------------------------+\n",
      "\n"
     ]
    }
   ],
   "source": [
    "# distinct values in each column\n",
    "# import count_distinct function \n",
    "from pyspark.sql.functions import count_distinct\n",
    "\n",
    "# distinct value count in the Author and the Price columns \n",
    "train_data.select(count_distinct(\"User_ID\"), count_distinct(\"Product_ID\"), count_distinct(\"Gender\"), count_distinct(\"Age\"), count_distinct(\"Occupation\"), count_distinct(\"City_Category\"), \n",
    "count_distinct(\"Stay_In_Current_City_Years\"), count_distinct(\"Marital_Status\"), count_distinct(\"Product_Category_1\"), count_distinct(\"Product_Category_2\"), count_distinct(\"Product_Category_3\")).show()\n"
   ]
  },
  {
   "cell_type": "markdown",
   "id": "6e17d55d",
   "metadata": {},
   "source": [
    "#### Independant Variables Distribution"
   ]
  },
  {
   "cell_type": "code",
   "execution_count": 25,
   "id": "a8903716",
   "metadata": {},
   "outputs": [
    {
     "data": {
      "image/png": "[encoded data removed]",
      "text/plain": [
       "<Figure size 432x288 with 1 Axes>"
      ]
     },
     "metadata": {
      "needs_background": "light"
     },
     "output_type": "display_data"
    },
    {
     "data": {
      "image/png": "[encoded data removed]",
      "text/plain": [
       "<Figure size 432x288 with 1 Axes>"
      ]
     },
     "metadata": {
      "needs_background": "light"
     },
     "output_type": "display_data"
    },
    {
     "data": {
      "image/png": "[encoded data removed]",
      "text/plain": [
       "<Figure size 432x288 with 1 Axes>"
      ]
     },
     "metadata": {
      "needs_background": "light"
     },
     "output_type": "display_data"
    },
    {
     "data": {
      "image/png": "[encoded data removed]",
      "text/plain": [
       "<Figure size 432x288 with 1 Axes>"
      ]
     },
     "metadata": {
      "needs_background": "light"
     },
     "output_type": "display_data"
    },
    {
     "data": {
      "image/png": "[encoded data removed]",
      "text/plain": [
       "<Figure size 432x288 with 1 Axes>"
      ]
     },
     "metadata": {
      "needs_background": "light"
     },
     "output_type": "display_data"
    },
    {
     "data": {
      "image/png": "[encoded data removed]",
      "text/plain": [
       "<Figure size 432x288 with 1 Axes>"
      ]
     },
     "metadata": {
      "needs_background": "light"
     },
     "output_type": "display_data"
    },
    {
     "data": {
      "image/png": "[encoded data removed]",
      "text/plain": [
       "<Figure size 432x288 with 1 Axes>"
      ]
     },
     "metadata": {
      "needs_background": "light"
     },
     "output_type": "display_data"
    }
   ],
   "source": [
    "to_plot = ['Gender', 'Age', 'City_Category', 'Marital_Status', \n",
    "           'Product_Category_1','Product_Category_2', 'Stay_In_Current_City_Years']\n",
    "for category in to_plot:\n",
    "    temp_df = train_data.groupby(category).count().sort(category).toPandas()\n",
    "    _ = sns.barplot(x = category, y = 'count', data = temp_df)\n",
    "    plt.show()"
   ]
  },
  {
   "cell_type": "code",
   "execution_count": 26,
   "id": "8efa61ed",
   "metadata": {},
   "outputs": [],
   "source": [
    "temp_df = train_data.groupby(['Age', 'Gender']).count().sort('Age').toPandas()"
   ]
  },
  {
   "cell_type": "code",
   "execution_count": 27,
   "id": "a07975d6",
   "metadata": {},
   "outputs": [
    {
     "name": "stdout",
     "output_type": "stream",
     "text": [
      "Defaulting to user installation because normal site-packages is not writeable\n",
      "Requirement already satisfied: chart_studio in ./.local/lib/python3.6/site-packages (1.1.0)\n",
      "Requirement already satisfied: requests in /opt/anaconda3/envs/beakerx/lib/python3.6/site-packages (from chart_studio) (2.25.1)\n",
      "Requirement already satisfied: plotly in ./.local/lib/python3.6/site-packages (from chart_studio) (5.9.0)\n",
      "Requirement already satisfied: six in /opt/anaconda3/envs/beakerx/lib/python3.6/site-packages (from chart_studio) (1.16.0)\n",
      "Requirement already satisfied: retrying>=1.3.3 in ./.local/lib/python3.6/site-packages (from chart_studio) (1.3.3)\n",
      "Requirement already satisfied: tenacity>=6.2.0 in ./.local/lib/python3.6/site-packages (from plotly->chart_studio) (8.0.1)\n",
      "Requirement already satisfied: urllib3<1.27,>=1.21.1 in /opt/anaconda3/envs/beakerx/lib/python3.6/site-packages (from requests->chart_studio) (1.26.5)\n",
      "Requirement already satisfied: certifi>=2017.4.17 in /opt/anaconda3/envs/beakerx/lib/python3.6/site-packages (from requests->chart_studio) (2021.5.30)\n",
      "Requirement already satisfied: idna<3,>=2.5 in /opt/anaconda3/envs/beakerx/lib/python3.6/site-packages (from requests->chart_studio) (2.10)\n",
      "Requirement already satisfied: chardet<5,>=3.0.2 in /opt/anaconda3/envs/beakerx/lib/python3.6/site-packages (from requests->chart_studio) (4.0.0)\n",
      "Note: you may need to restart the kernel to use updated packages.\n"
     ]
    }
   ],
   "source": [
    "pip install chart_studio"
   ]
  },
  {
   "cell_type": "markdown",
   "id": "8036ee1b",
   "metadata": {},
   "source": [
    "#### Data Cleaning"
   ]
  },
  {
   "cell_type": "code",
   "execution_count": 28,
   "id": "4c83bbfe",
   "metadata": {},
   "outputs": [],
   "source": [
    "# Not the most elegant solution, next steps is for a model to impute values\n",
    "train_data = train_data.fillna(-1)\n",
    "test_data = test_data.fillna(-1)"
   ]
  },
  {
   "cell_type": "code",
   "execution_count": 29,
   "id": "7b467aba",
   "metadata": {},
   "outputs": [
    {
     "name": "stdout",
     "output_type": "stream",
     "text": [
      "+-------+------------------+----------+------+------+-----------------+-------------+--------------------------+-------------------+------------------+------------------+------------------+-----------------+\n",
      "|summary|           User_ID|Product_ID|Gender|   Age|       Occupation|City_Category|Stay_In_Current_City_Years|     Marital_Status|Product_Category_1|Product_Category_2|Product_Category_3|         Purchase|\n",
      "+-------+------------------+----------+------+------+-----------------+-------------+--------------------------+-------------------+------------------+------------------+------------------+-----------------+\n",
      "|  count|            550068|    550068|550068|550068|           550068|       550068|                    550068|             550068|            550068|            550068|            550068|           550068|\n",
      "|   mean|1003028.8424013031|      null|  null|  null|8.076706879876669|         null|         1.468494139793958|0.40965298835780306| 5.404270017525106| 6.419769919355425| 3.145214773446192|9263.968712959126|\n",
      "| stddev|1727.5915855312976|      null|  null|  null|6.522660487341822|         null|        0.9890866807573172|0.49177012631733175| 3.936211369201386| 6.565109781181339| 6.681038828257756|5023.065393820575|\n",
      "|    min|           1000001| P00000142|     F|  0-17|                0|            A|                         0|                  0|                 1|                -1|                -1|               12|\n",
      "|    max|           1006040|  P0099942|     M|   55+|               20|            C|                        4+|                  1|                20|                18|                18|            23961|\n",
      "+-------+------------------+----------+------+------+-----------------+-------------+--------------------------+-------------------+------------------+------------------+------------------+-----------------+\n",
      "\n"
     ]
    }
   ],
   "source": [
    "train_data.describe().show()"
   ]
  },
  {
   "cell_type": "markdown",
   "id": "3ba5bbe8",
   "metadata": {},
   "source": [
    "#### Column - Gneder"
   ]
  },
  {
   "cell_type": "code",
   "execution_count": 30,
   "id": "769c1e34",
   "metadata": {},
   "outputs": [
    {
     "name": "stdout",
     "output_type": "stream",
     "text": [
      "+------+------------+\n",
      "|Gender|Gender_count|\n",
      "+------+------------+\n",
      "|     F|      135809|\n",
      "|     M|      414259|\n",
      "+------+------------+\n",
      "\n"
     ]
    }
   ],
   "source": [
    "top_Gender = train_data.groupBy(\"Gender\").agg(F.count(\"Gender\").alias(\"Gender_count\"))\n",
    "top_Gender.show(10)"
   ]
  },
  {
   "cell_type": "code",
   "execution_count": 31,
   "id": "c38df473",
   "metadata": {},
   "outputs": [
    {
     "name": "stdout",
     "output_type": "stream",
     "text": [
      "['M', 'F']\n"
     ]
    }
   ],
   "source": [
    "# create list of top 10 Gender, you can change the parameter in the limit function to choose any other number of countries\n",
    "top_10_Gender = (top_Gender.orderBy(\"Gender_count\",ascending=False).limit(20).select(\"Gender\").collect())\n",
    "top_10_Gender = [ row.Gender for row in top_10_Gender]\n",
    "print(top_10_Gender)\n",
    "\n",
    "# define function to map Gender\n",
    "def map_Gender(x):\n",
    "    if x not in top_10_Gender:\n",
    "        return \"Others\"\n",
    "    else:\n",
    "        return x"
   ]
  },
  {
   "cell_type": "code",
   "execution_count": 32,
   "id": "5e9e2d72",
   "metadata": {},
   "outputs": [],
   "source": [
    "# Convert to udf function\n",
    "map_Gender_udf = F.udf(f= map_Gender, returnType= tp.StringType())"
   ]
  },
  {
   "cell_type": "code",
   "execution_count": 33,
   "id": "4d03bfa4",
   "metadata": {},
   "outputs": [],
   "source": [
    "# map Gender\n",
    "train_data = train_data.withColumn(\"Gender_modified\", map_Gender_udf(train_data[\"Gender\"]))"
   ]
  },
  {
   "cell_type": "code",
   "execution_count": 34,
   "id": "055052ae",
   "metadata": {},
   "outputs": [
    {
     "name": "stdout",
     "output_type": "stream",
     "text": [
      "+---------------+----------------------+\n",
      "|Gender_modified|count(Gender_modified)|\n",
      "+---------------+----------------------+\n",
      "|              F|                135809|\n",
      "|              M|                414259|\n",
      "+---------------+----------------------+\n",
      "\n"
     ]
    }
   ],
   "source": [
    "# number of data points with gender category\n",
    "top_10_Gender = train_data.groupBy(\"Gender_modified\").agg(F.count(\"Gender_modified\"))\n",
    "top_10_Gender.show()"
   ]
  },
  {
   "cell_type": "code",
   "execution_count": 35,
   "id": "3514e043",
   "metadata": {},
   "outputs": [],
   "source": [
    "# test data\n",
    "test_data = test_data.withColumn(\"Gender_modified\", map_Gender_udf(test_data[\"Gender\"]))"
   ]
  },
  {
   "cell_type": "markdown",
   "id": "ba4d2095",
   "metadata": {},
   "source": [
    "#### Column - Age"
   ]
  },
  {
   "cell_type": "code",
   "execution_count": 36,
   "id": "f42e818a",
   "metadata": {},
   "outputs": [
    {
     "name": "stdout",
     "output_type": "stream",
     "text": [
      "+-----+---------+\n",
      "|  Age|Age_count|\n",
      "+-----+---------+\n",
      "|18-25|    99660|\n",
      "|26-35|   219587|\n",
      "| 0-17|    15102|\n",
      "|46-50|    45701|\n",
      "|51-55|    38501|\n",
      "|36-45|   110013|\n",
      "|  55+|    21504|\n",
      "+-----+---------+\n",
      "\n"
     ]
    }
   ],
   "source": [
    "top_Age = train_data.groupBy(\"Age\").agg(F.count(\"Age\").alias(\"Age_count\"))\n",
    "top_Age.show(10)"
   ]
  },
  {
   "cell_type": "code",
   "execution_count": 37,
   "id": "86ca5074",
   "metadata": {},
   "outputs": [
    {
     "name": "stdout",
     "output_type": "stream",
     "text": [
      "['26-35', '36-45', '18-25', '46-50', '51-55', '55+', '0-17']\n"
     ]
    }
   ],
   "source": [
    "# create list of top 10 Age, you can change the parameter in the limit function to choose any other number of countries\n",
    "top_10_Age = (top_Age.orderBy(\"Age_count\",ascending=False).limit(20).select(\"Age\").collect())\n",
    "top_10_Age = [ row.Age for row in top_10_Age]\n",
    "print(top_10_Age)\n",
    "\n",
    "# define function to map Gender\n",
    "def map_Age(x):\n",
    "    if x not in top_10_Age:\n",
    "        return \"Others\"\n",
    "    else:\n",
    "        return x"
   ]
  },
  {
   "cell_type": "code",
   "execution_count": 38,
   "id": "6cf22e39",
   "metadata": {},
   "outputs": [],
   "source": [
    "# Convert to udf function\n",
    "map_Age_udf = F.udf(f= map_Age, returnType= tp.StringType())"
   ]
  },
  {
   "cell_type": "code",
   "execution_count": 39,
   "id": "43fca45b",
   "metadata": {},
   "outputs": [],
   "source": [
    "# map Age\n",
    "train_data = train_data.withColumn(\"Age_modified\", map_Age_udf(train_data[\"Age\"]))"
   ]
  },
  {
   "cell_type": "code",
   "execution_count": 40,
   "id": "2655637f",
   "metadata": {},
   "outputs": [
    {
     "name": "stdout",
     "output_type": "stream",
     "text": [
      "+------------+-------------------+\n",
      "|Age_modified|count(Age_modified)|\n",
      "+------------+-------------------+\n",
      "|       18-25|              99660|\n",
      "|       26-35|             219587|\n",
      "|        0-17|              15102|\n",
      "|       46-50|              45701|\n",
      "|       51-55|              38501|\n",
      "|       36-45|             110013|\n",
      "|         55+|              21504|\n",
      "+------------+-------------------+\n",
      "\n"
     ]
    }
   ],
   "source": [
    "# number of data points with Age category\n",
    "top_10_Age = train_data.groupBy(\"Age_modified\").agg(F.count(\"Age_modified\"))\n",
    "top_10_Age.show()"
   ]
  },
  {
   "cell_type": "code",
   "execution_count": 41,
   "id": "358cb5f7",
   "metadata": {},
   "outputs": [],
   "source": [
    "# test data\n",
    "test_data = test_data.withColumn(\"Age_modified\", map_Gender_udf(test_data[\"Age\"]))"
   ]
  },
  {
   "cell_type": "markdown",
   "id": "33529f7b",
   "metadata": {},
   "source": [
    "#### Column - City_Category"
   ]
  },
  {
   "cell_type": "code",
   "execution_count": 42,
   "id": "800301b5",
   "metadata": {},
   "outputs": [
    {
     "name": "stdout",
     "output_type": "stream",
     "text": [
      "+-------------+-------------------+\n",
      "|City_Category|City_Category_count|\n",
      "+-------------+-------------------+\n",
      "|            B|             231173|\n",
      "|            C|             171175|\n",
      "|            A|             147720|\n",
      "+-------------+-------------------+\n",
      "\n"
     ]
    }
   ],
   "source": [
    "top_citycategory = train_data.groupBy(\"City_Category\").agg(F.count(\"City_Category\").alias(\"City_Category_count\"))\n",
    "top_citycategory.show(10)"
   ]
  },
  {
   "cell_type": "code",
   "execution_count": 43,
   "id": "c72c88d8",
   "metadata": {},
   "outputs": [
    {
     "name": "stdout",
     "output_type": "stream",
     "text": [
      "['B', 'C', 'A']\n"
     ]
    }
   ],
   "source": [
    "# create list of top 10 Gender, you can change the parameter in the limit function to choose any other number of countries\n",
    "top_10_citycategory= (top_citycategory.orderBy(\"City_Category_count\",ascending=False).limit(20).select(\"City_Category\").collect())\n",
    "top_10_citycategory = [ row.City_Category for row in top_10_citycategory]\n",
    "print(top_10_citycategory)\n",
    "\n",
    "# define function to map Gender\n",
    "def map_City_Category(x):\n",
    "    if x not in top_10_citycategory:\n",
    "        return \"Others\"\n",
    "    else:\n",
    "        return x"
   ]
  },
  {
   "cell_type": "code",
   "execution_count": 44,
   "id": "f75fc5b0",
   "metadata": {},
   "outputs": [],
   "source": [
    "# Convert to udf function\n",
    "map_City_Category_udf = F.udf(f= map_City_Category, returnType= tp.StringType())"
   ]
  },
  {
   "cell_type": "code",
   "execution_count": 45,
   "id": "863a28b6",
   "metadata": {},
   "outputs": [],
   "source": [
    "# map City_Category\n",
    "train_data = train_data.withColumn(\"City_Category_modified\", map_City_Category_udf(train_data[\"City_Category\"]))"
   ]
  },
  {
   "cell_type": "code",
   "execution_count": 46,
   "id": "5635c661",
   "metadata": {},
   "outputs": [
    {
     "name": "stdout",
     "output_type": "stream",
     "text": [
      "+----------------------+-----------------------------+\n",
      "|City_Category_modified|count(City_Category_modified)|\n",
      "+----------------------+-----------------------------+\n",
      "|                     B|                       231173|\n",
      "|                     C|                       171175|\n",
      "|                     A|                       147720|\n",
      "+----------------------+-----------------------------+\n",
      "\n"
     ]
    }
   ],
   "source": [
    "# number of data points with gender category\n",
    "top_10_citycategory = train_data.groupBy(\"City_Category_modified\").agg(F.count(\"City_Category_modified\"))\n",
    "top_10_citycategory.show()"
   ]
  },
  {
   "cell_type": "code",
   "execution_count": 47,
   "id": "632007ca",
   "metadata": {},
   "outputs": [],
   "source": [
    "# test data\n",
    "test_data = test_data.withColumn(\"City_Category_modified\", map_Gender_udf(test_data[\"City_Category\"]))"
   ]
  },
  {
   "cell_type": "markdown",
   "id": "c14da13e",
   "metadata": {},
   "source": [
    "#### Column - Stay_In_Current_City_Years"
   ]
  },
  {
   "cell_type": "code",
   "execution_count": 48,
   "id": "f26278f6",
   "metadata": {},
   "outputs": [
    {
     "name": "stdout",
     "output_type": "stream",
     "text": [
      "+--------------------------+--------------------------------+\n",
      "|Stay_In_Current_City_Years|Stay_In_Current_City_Years_count|\n",
      "+--------------------------+--------------------------------+\n",
      "|                         3|                           95285|\n",
      "|                         0|                           74398|\n",
      "|                        4+|                           84726|\n",
      "|                         1|                          193821|\n",
      "|                         2|                          101838|\n",
      "+--------------------------+--------------------------------+\n",
      "\n"
     ]
    }
   ],
   "source": [
    "top_stayincurrentcityyears = train_data.groupBy(\"Stay_In_Current_City_Years\").agg(F.count(\"Stay_In_Current_City_Years\").alias(\"Stay_In_Current_City_Years_count\"))\n",
    "top_stayincurrentcityyears.show(10)"
   ]
  },
  {
   "cell_type": "code",
   "execution_count": 49,
   "id": "3bb74f9d",
   "metadata": {},
   "outputs": [
    {
     "name": "stdout",
     "output_type": "stream",
     "text": [
      "['1', '2', '3', '4+', '0']\n"
     ]
    }
   ],
   "source": [
    "# create list of top 10 Gender, you can change the parameter in the limit function to choose any other number of countries\n",
    "top_10_stayincurrentcityyears = (top_stayincurrentcityyears.orderBy(\"Stay_In_Current_City_Years_count\",ascending=False).limit(20).select(\"Stay_In_Current_City_Years\").collect())\n",
    "top_10_stayincurrentcityyears = [ row.Stay_In_Current_City_Years for row in top_10_stayincurrentcityyears]\n",
    "print(top_10_stayincurrentcityyears)\n",
    "\n",
    "# define function to map Gender\n",
    "def map_Stay_In_Current_City_Years(x):\n",
    "    if x not in top_10_stayincurrentcityyears:\n",
    "        return \"Others\"\n",
    "    else:\n",
    "        return x"
   ]
  },
  {
   "cell_type": "code",
   "execution_count": 50,
   "id": "e68a9005",
   "metadata": {},
   "outputs": [],
   "source": [
    "# Convert to udf function\n",
    "map_Stay_In_Current_City_Years_udf = F.udf(f= map_Stay_In_Current_City_Years, returnType= tp.StringType())"
   ]
  },
  {
   "cell_type": "code",
   "execution_count": 51,
   "id": "42101f60",
   "metadata": {},
   "outputs": [],
   "source": [
    "# map Stay_In_Current_City_Years\n",
    "train_data = train_data.withColumn(\"Stay_In_Current_City_Years_modified\", map_Stay_In_Current_City_Years_udf(train_data[\"Stay_In_Current_City_Years\"]))"
   ]
  },
  {
   "cell_type": "code",
   "execution_count": 52,
   "id": "5ea95e76",
   "metadata": {},
   "outputs": [
    {
     "name": "stdout",
     "output_type": "stream",
     "text": [
      "+-----------------------------------+------------------------------------------+\n",
      "|Stay_In_Current_City_Years_modified|count(Stay_In_Current_City_Years_modified)|\n",
      "+-----------------------------------+------------------------------------------+\n",
      "|                                  3|                                     95285|\n",
      "|                                  0|                                     74398|\n",
      "|                                 4+|                                     84726|\n",
      "|                                  1|                                    193821|\n",
      "|                                  2|                                    101838|\n",
      "+-----------------------------------+------------------------------------------+\n",
      "\n"
     ]
    }
   ],
   "source": [
    "# number of data points with Stay_In_Current_City_Years category\n",
    "top_10_stayincurrentcityyears = train_data.groupBy(\"Stay_In_Current_City_Years_modified\").agg(F.count(\"Stay_In_Current_City_Years_modified\"))\n",
    "top_10_stayincurrentcityyears.show()"
   ]
  },
  {
   "cell_type": "code",
   "execution_count": 53,
   "id": "0adb41a4",
   "metadata": {},
   "outputs": [],
   "source": [
    "# test data\n",
    "test_data = test_data.withColumn(\"Stay_In_Current_City_Years_modified\", map_Gender_udf(test_data[\"Stay_In_Current_City_Years\"]))"
   ]
  },
  {
   "cell_type": "markdown",
   "id": "f7a2ad8a",
   "metadata": {},
   "source": [
    "#### Count Category Values with each of the columns: Gender, Age, Stay_In_Current_City_Years, City_Category"
   ]
  },
  {
   "cell_type": "code",
   "execution_count": 54,
   "id": "1163cf28",
   "metadata": {},
   "outputs": [
    {
     "name": "stdout",
     "output_type": "stream",
     "text": [
      "+------+-------------+\n",
      "|Gender|count(Gender)|\n",
      "+------+-------------+\n",
      "|     M|       414259|\n",
      "|     F|       135809|\n",
      "+------+-------------+\n",
      "\n"
     ]
    }
   ],
   "source": [
    "# each browser count in the dataset \n",
    "Gender = train_data.groupBy(\"Gender\").agg(F.count(\"Gender\"))\n",
    "Gender.orderBy(\"count(Gender)\",ascending=False).show(30)"
   ]
  },
  {
   "cell_type": "code",
   "execution_count": 55,
   "id": "d694c0a4",
   "metadata": {},
   "outputs": [
    {
     "name": "stdout",
     "output_type": "stream",
     "text": [
      "+-----+----------+\n",
      "|  Age|count(Age)|\n",
      "+-----+----------+\n",
      "|26-35|    219587|\n",
      "|36-45|    110013|\n",
      "|18-25|     99660|\n",
      "|46-50|     45701|\n",
      "|51-55|     38501|\n",
      "|  55+|     21504|\n",
      "| 0-17|     15102|\n",
      "+-----+----------+\n",
      "\n"
     ]
    }
   ],
   "source": [
    "# each browser count in the dataset \n",
    "Gender = train_data.groupBy(\"Age\").agg(F.count(\"Age\"))\n",
    "Gender.orderBy(\"count(Age)\",ascending=False).show(30)"
   ]
  },
  {
   "cell_type": "code",
   "execution_count": 56,
   "id": "abf2907f",
   "metadata": {},
   "outputs": [
    {
     "name": "stdout",
     "output_type": "stream",
     "text": [
      "+--------------------------+---------------------------------+\n",
      "|Stay_In_Current_City_Years|count(Stay_In_Current_City_Years)|\n",
      "+--------------------------+---------------------------------+\n",
      "|                         1|                           193821|\n",
      "|                         2|                           101838|\n",
      "|                         3|                            95285|\n",
      "|                        4+|                            84726|\n",
      "|                         0|                            74398|\n",
      "+--------------------------+---------------------------------+\n",
      "\n"
     ]
    }
   ],
   "source": [
    "# each browser count in the dataset \n",
    "Gender = train_data.groupBy(\"Stay_In_Current_City_Years\").agg(F.count(\"Stay_In_Current_City_Years\"))\n",
    "Gender.orderBy(\"count(Stay_In_Current_City_Years)\",ascending=False).show(30)"
   ]
  },
  {
   "cell_type": "code",
   "execution_count": 57,
   "id": "59d2b6d4",
   "metadata": {},
   "outputs": [
    {
     "name": "stdout",
     "output_type": "stream",
     "text": [
      "+-------------+--------------------+\n",
      "|City_Category|count(City_Category)|\n",
      "+-------------+--------------------+\n",
      "|            B|              231173|\n",
      "|            C|              171175|\n",
      "|            A|              147720|\n",
      "+-------------+--------------------+\n",
      "\n"
     ]
    }
   ],
   "source": [
    "# each browser count in the dataset \n",
    "Gender = train_data.groupBy(\"City_Category\").agg(F.count(\"City_Category\"))\n",
    "Gender.orderBy(\"count(City_Category)\",ascending=False).show(30)"
   ]
  },
  {
   "cell_type": "markdown",
   "id": "8a2d115d",
   "metadata": {},
   "source": [
    "#### Calculate average Purchase for each of the following columns: Gender, Age, Stay_In_Current_City_Years, City_Category, Marital_Status"
   ]
  },
  {
   "cell_type": "code",
   "execution_count": 58,
   "id": "6d67dd57",
   "metadata": {},
   "outputs": [
    {
     "name": "stdout",
     "output_type": "stream",
     "text": [
      "+-----+------------+\n",
      "|  Age|avg_purchase|\n",
      "+-----+------------+\n",
      "|18-25|       99660|\n",
      "|26-35|      219587|\n",
      "| 0-17|       15102|\n",
      "|46-50|       45701|\n",
      "|51-55|       38501|\n",
      "|36-45|      110013|\n",
      "|  55+|       21504|\n",
      "+-----+------------+\n",
      "\n"
     ]
    }
   ],
   "source": [
    "## groupby to calculate average purchase for each of the columns \n",
    "avg_purchase = train_data.groupBy(\"Age\").agg(F.count(\"Purchase\").alias(\"avg_purchase\"))\n",
    "avg_purchase.show()"
   ]
  },
  {
   "cell_type": "code",
   "execution_count": 59,
   "id": "c5b7e5ee",
   "metadata": {},
   "outputs": [
    {
     "name": "stdout",
     "output_type": "stream",
     "text": [
      "+------+------------+\n",
      "|Gender|avg_purchase|\n",
      "+------+------------+\n",
      "|     F|      135809|\n",
      "|     M|      414259|\n",
      "+------+------------+\n",
      "\n"
     ]
    }
   ],
   "source": [
    "## groupby to calculate average purchase for each of the columns \n",
    "avg_purchase = train_data.groupBy(\"Gender\").agg(F.count(\"Purchase\").alias(\"avg_purchase\"))\n",
    "avg_purchase.show()"
   ]
  },
  {
   "cell_type": "code",
   "execution_count": 60,
   "id": "c4c558b3",
   "metadata": {},
   "outputs": [
    {
     "name": "stdout",
     "output_type": "stream",
     "text": [
      "+--------------------------+------------+\n",
      "|Stay_In_Current_City_Years|avg_purchase|\n",
      "+--------------------------+------------+\n",
      "|                         3|       95285|\n",
      "|                         0|       74398|\n",
      "|                        4+|       84726|\n",
      "|                         1|      193821|\n",
      "|                         2|      101838|\n",
      "+--------------------------+------------+\n",
      "\n"
     ]
    }
   ],
   "source": [
    "## groupby to calculate average purchase for each of the columns \n",
    "avg_purchase = train_data.groupBy(\"Stay_In_Current_City_Years\").agg(F.count(\"Purchase\").alias(\"avg_purchase\"))\n",
    "avg_purchase.show()"
   ]
  },
  {
   "cell_type": "code",
   "execution_count": 61,
   "id": "e410552d",
   "metadata": {},
   "outputs": [
    {
     "name": "stdout",
     "output_type": "stream",
     "text": [
      "+-------------+------------+\n",
      "|City_Category|avg_purchase|\n",
      "+-------------+------------+\n",
      "|            B|      231173|\n",
      "|            C|      171175|\n",
      "|            A|      147720|\n",
      "+-------------+------------+\n",
      "\n"
     ]
    }
   ],
   "source": [
    "## groupby to calculate average purchase for each of the columns \n",
    "avg_purchase = train_data.groupBy(\"City_Category\").agg(F.count(\"Purchase\").alias(\"avg_purchase\"))\n",
    "avg_purchase.show()"
   ]
  },
  {
   "cell_type": "code",
   "execution_count": 62,
   "id": "fdecffcd",
   "metadata": {},
   "outputs": [
    {
     "name": "stdout",
     "output_type": "stream",
     "text": [
      "+--------------+------------+\n",
      "|Marital_Status|avg_purchase|\n",
      "+--------------+------------+\n",
      "|             1|      225337|\n",
      "|             0|      324731|\n",
      "+--------------+------------+\n",
      "\n"
     ]
    }
   ],
   "source": [
    "## groupby to calculate average purchase for each of the columns \n",
    "avg_purchase = train_data.groupBy(\"Marital_Status\").agg(F.count(\"Purchase\").alias(\"avg_purchase\"))\n",
    "avg_purchase.show()"
   ]
  },
  {
   "cell_type": "markdown",
   "id": "6b91a49d",
   "metadata": {},
   "source": [
    "#### Label Encode following columns: Age, Gender, City_Category, Stay_In_Current_City_Years "
   ]
  },
  {
   "cell_type": "markdown",
   "id": "2a2e75de",
   "metadata": {},
   "source": [
    "##### Label Encoding \n",
    "\n",
    "Assigning a unique integer to each of the categorical values Done using StringIndexer"
   ]
  },
  {
   "cell_type": "code",
   "execution_count": 63,
   "id": "a11bef2b",
   "metadata": {},
   "outputs": [],
   "source": [
    "# importing some more libraries\n",
    "from pyspark.ml.feature import StringIndexer\n",
    "from pyspark.ml.feature import OneHotEncoder"
   ]
  },
  {
   "cell_type": "markdown",
   "id": "51f1cf91",
   "metadata": {},
   "source": [
    "#### Create StringIndexer Objects"
   ]
  },
  {
   "cell_type": "code",
   "execution_count": 64,
   "id": "180acbc2",
   "metadata": {},
   "outputs": [
    {
     "name": "stdout",
     "output_type": "stream",
     "text": [
      "+-------+----------+------+-----+----------+-------------+--------------------------+--------------+------------------+------------------+------------------+--------+---------------+------------+----------------------+-----------------------------------+---------+------------+----------------+-------------------+--------------------------------+\n",
      "|User_ID|Product_ID|Gender|  Age|Occupation|City_Category|Stay_In_Current_City_Years|Marital_Status|Product_Category_1|Product_Category_2|Product_Category_3|Purchase|Gender_modified|Age_modified|City_Category_modified|Stay_In_Current_City_Years_modified|Age_index|Gender_index|Occupation_index|City_Category_index|Stay_In_Current_City_Years_index|\n",
      "+-------+----------+------+-----+----------+-------------+--------------------------+--------------+------------------+------------------+------------------+--------+---------------+------------+----------------------+-----------------------------------+---------+------------+----------------+-------------------+--------------------------------+\n",
      "|1000001| P00069042|     F| 0-17|        10|            A|                         2|             0|                 3|                -1|                -1|    8370|              F|        0-17|                     A|                                  2|      6.0|         1.0|            12.0|                2.0|                             1.0|\n",
      "|1000001| P00248942|     F| 0-17|        10|            A|                         2|             0|                 1|                 6|                14|   15200|              F|        0-17|                     A|                                  2|      6.0|         1.0|            12.0|                2.0|                             1.0|\n",
      "|1000001| P00087842|     F| 0-17|        10|            A|                         2|             0|                12|                -1|                -1|    1422|              F|        0-17|                     A|                                  2|      6.0|         1.0|            12.0|                2.0|                             1.0|\n",
      "|1000001| P00085442|     F| 0-17|        10|            A|                         2|             0|                12|                14|                -1|    1057|              F|        0-17|                     A|                                  2|      6.0|         1.0|            12.0|                2.0|                             1.0|\n",
      "|1000002| P00285442|     M|  55+|        16|            C|                        4+|             0|                 8|                -1|                -1|    7969|              M|         55+|                     C|                                 4+|      5.0|         0.0|             9.0|                1.0|                             3.0|\n",
      "|1000003| P00193542|     M|26-35|        15|            A|                         3|             0|                 1|                 2|                -1|   15227|              M|       26-35|                     A|                                  3|      0.0|         0.0|            14.0|                2.0|                             2.0|\n",
      "|1000004| P00184942|     M|46-50|         7|            B|                         2|             1|                 1|                 8|                17|   19215|              M|       46-50|                     B|                                  2|      3.0|         0.0|             2.0|                0.0|                             1.0|\n",
      "|1000004| P00346142|     M|46-50|         7|            B|                         2|             1|                 1|                15|                -1|   15854|              M|       46-50|                     B|                                  2|      3.0|         0.0|             2.0|                0.0|                             1.0|\n",
      "|1000004|  P0097242|     M|46-50|         7|            B|                         2|             1|                 1|                16|                -1|   15686|              M|       46-50|                     B|                                  2|      3.0|         0.0|             2.0|                0.0|                             1.0|\n",
      "|1000005| P00274942|     M|26-35|        20|            A|                         1|             1|                 8|                -1|                -1|    7871|              M|       26-35|                     A|                                  1|      0.0|         0.0|             5.0|                2.0|                             0.0|\n",
      "|1000005| P00251242|     M|26-35|        20|            A|                         1|             1|                 5|                11|                -1|    5254|              M|       26-35|                     A|                                  1|      0.0|         0.0|             5.0|                2.0|                             0.0|\n",
      "|1000005| P00014542|     M|26-35|        20|            A|                         1|             1|                 8|                -1|                -1|    3957|              M|       26-35|                     A|                                  1|      0.0|         0.0|             5.0|                2.0|                             0.0|\n",
      "|1000005| P00031342|     M|26-35|        20|            A|                         1|             1|                 8|                -1|                -1|    6073|              M|       26-35|                     A|                                  1|      0.0|         0.0|             5.0|                2.0|                             0.0|\n",
      "|1000005| P00145042|     M|26-35|        20|            A|                         1|             1|                 1|                 2|                 5|   15665|              M|       26-35|                     A|                                  1|      0.0|         0.0|             5.0|                2.0|                             0.0|\n",
      "|1000006| P00231342|     F|51-55|         9|            A|                         1|             0|                 5|                 8|                14|    5378|              F|       51-55|                     A|                                  1|      4.0|         1.0|            19.0|                2.0|                             0.0|\n",
      "|1000006| P00190242|     F|51-55|         9|            A|                         1|             0|                 4|                 5|                -1|    2079|              F|       51-55|                     A|                                  1|      4.0|         1.0|            19.0|                2.0|                             0.0|\n",
      "|1000006|  P0096642|     F|51-55|         9|            A|                         1|             0|                 2|                 3|                 4|   13055|              F|       51-55|                     A|                                  1|      4.0|         1.0|            19.0|                2.0|                             0.0|\n",
      "|1000006| P00058442|     F|51-55|         9|            A|                         1|             0|                 5|                14|                -1|    8851|              F|       51-55|                     A|                                  1|      4.0|         1.0|            19.0|                2.0|                             0.0|\n",
      "|1000007| P00036842|     M|36-45|         1|            B|                         1|             1|                 1|                14|                16|   11788|              M|       36-45|                     B|                                  1|      1.0|         0.0|             3.0|                0.0|                             0.0|\n",
      "|1000008| P00249542|     M|26-35|        12|            C|                        4+|             1|                 1|                 5|                15|   19614|              M|       26-35|                     C|                                 4+|      0.0|         0.0|             6.0|                1.0|                             3.0|\n",
      "+-------+----------+------+-----+----------+-------------+--------------------------+--------------+------------------+------------------+------------------+--------+---------------+------------+----------------------+-----------------------------------+---------+------------+----------------+-------------------+--------------------------------+\n",
      "only showing top 20 rows\n",
      "\n"
     ]
    }
   ],
   "source": [
    "from pyspark.ml import Pipeline\n",
    "from pyspark.ml.feature import StringIndexer\n",
    "\n",
    "indexers = [StringIndexer(inputCol=column, outputCol=column+\"_index\").fit(train_data) for column in list(set([\"Age\", \"Gender\",\"City_Category\", \"Stay_In_Current_City_Years\", \"Occupation\"]))]\n",
    "\n",
    "\n",
    "pipeline = Pipeline(stages=indexers)\n",
    "train_data_new = pipeline.fit(train_data).transform(train_data)\n",
    "\n",
    "train_data_new.show()"
   ]
  },
  {
   "cell_type": "markdown",
   "id": "22ab9be8",
   "metadata": {},
   "source": [
    "#### Making transformation on test data"
   ]
  },
  {
   "cell_type": "code",
   "execution_count": 65,
   "id": "fa0fa695",
   "metadata": {},
   "outputs": [
    {
     "name": "stdout",
     "output_type": "stream",
     "text": [
      "+-------+----------+------+-----+----------+-------------+--------------------------+--------------+------------------+------------------+------------------+---------------+------------+----------------------+-----------------------------------+---------+------------+----------------+-------------------+--------------------------------+\n",
      "|User_ID|Product_ID|Gender|  Age|Occupation|City_Category|Stay_In_Current_City_Years|Marital_Status|Product_Category_1|Product_Category_2|Product_Category_3|Gender_modified|Age_modified|City_Category_modified|Stay_In_Current_City_Years_modified|Age_index|Gender_index|Occupation_index|City_Category_index|Stay_In_Current_City_Years_index|\n",
      "+-------+----------+------+-----+----------+-------------+--------------------------+--------------+------------------+------------------+------------------+---------------+------------+----------------------+-----------------------------------+---------+------------+----------------+-------------------+--------------------------------+\n",
      "|1000004| P00128942|     M|46-50|         7|            B|                         2|             1|                 1|                11|                -1|              M|      Others|                Others|                             Others|      3.0|         0.0|             2.0|                0.0|                             1.0|\n",
      "|1000009| P00113442|     M|26-35|        17|            C|                         0|             0|                 3|                 5|                -1|              M|      Others|                Others|                             Others|      0.0|         0.0|             4.0|                1.0|                             4.0|\n",
      "|1000010| P00288442|     F|36-45|         1|            B|                        4+|             1|                 5|                14|                -1|              F|      Others|                Others|                             Others|      1.0|         1.0|             3.0|                0.0|                             3.0|\n",
      "|1000010| P00145342|     F|36-45|         1|            B|                        4+|             1|                 4|                 9|                -1|              F|      Others|                Others|                             Others|      1.0|         1.0|             3.0|                0.0|                             3.0|\n",
      "|1000011| P00053842|     F|26-35|         1|            C|                         1|             0|                 4|                 5|                12|              F|      Others|                Others|                             Others|      0.0|         1.0|             3.0|                1.0|                             0.0|\n",
      "|1000013| P00350442|     M|46-50|         1|            C|                         3|             1|                 2|                 3|                15|              M|      Others|                Others|                             Others|      3.0|         0.0|             3.0|                1.0|                             2.0|\n",
      "|1000013| P00155442|     M|46-50|         1|            C|                         3|             1|                 1|                11|                15|              M|      Others|                Others|                             Others|      3.0|         0.0|             3.0|                1.0|                             2.0|\n",
      "|1000013|  P0094542|     M|46-50|         1|            C|                         3|             1|                 2|                 4|                 9|              M|      Others|                Others|                             Others|      3.0|         0.0|             3.0|                1.0|                             2.0|\n",
      "|1000015| P00161842|     M|26-35|         7|            A|                         1|             0|                10|                13|                16|              M|      Others|                Others|                             Others|      0.0|         0.0|             2.0|                2.0|                             0.0|\n",
      "|1000022| P00067942|     M|18-25|        15|            A|                        4+|             0|                 5|                14|                -1|              M|      Others|                Others|                             Others|      2.0|         0.0|            14.0|                2.0|                             3.0|\n",
      "|1000026| P00046742|     M|26-35|         7|            B|                         2|             1|                 1|                 2|                15|              M|      Others|                Others|                             Others|      0.0|         0.0|             2.0|                0.0|                             1.0|\n",
      "|1000026| P00040042|     M|26-35|         7|            B|                         2|             1|                 5|                -1|                -1|              M|      Others|                Others|                             Others|      0.0|         0.0|             2.0|                0.0|                             1.0|\n",
      "|1000026| P00196542|     M|26-35|         7|            B|                         2|             1|                 5|                 8|                14|              M|      Others|                Others|                             Others|      0.0|         0.0|             2.0|                0.0|                             1.0|\n",
      "|1000026| P00004542|     M|26-35|         7|            B|                         2|             1|                 5|                 8|                -1|              M|      Others|                Others|                             Others|      0.0|         0.0|             2.0|                0.0|                             1.0|\n",
      "|1000028| P00159542|     F|26-35|         1|            C|                         2|             1|                10|                15|                16|              F|      Others|                Others|                             Others|      0.0|         1.0|             3.0|                1.0|                             1.0|\n",
      "|1000029| P00111542|     M|36-45|         7|            C|                         1|             0|                 2|                17|                -1|              M|      Others|                Others|                             Others|      1.0|         0.0|             2.0|                1.0|                             0.0|\n",
      "|1000033| P00121042|     M|46-50|         3|            A|                         1|             1|                15|                -1|                -1|              M|      Others|                Others|                             Others|      3.0|         0.0|            11.0|                2.0|                             0.0|\n",
      "|1000033| P00344442|     M|46-50|         3|            A|                         1|             1|                 5|                 8|                14|              M|      Others|                Others|                             Others|      3.0|         0.0|            11.0|                2.0|                             0.0|\n",
      "|1000034| P00265242|     F|18-25|         0|            A|                         0|             0|                 5|                 8|                -1|              F|      Others|                Others|                             Others|      2.0|         1.0|             1.0|                2.0|                             4.0|\n",
      "|1000035|  P0096642|     M|46-50|         1|            C|                        4+|             1|                 2|                 3|                 4|              M|      Others|                Others|                             Others|      3.0|         0.0|             3.0|                1.0|                             3.0|\n",
      "+-------+----------+------+-----+----------+-------------+--------------------------+--------------+------------------+------------------+------------------+---------------+------------+----------------------+-----------------------------------+---------+------------+----------------+-------------------+--------------------------------+\n",
      "only showing top 20 rows\n",
      "\n"
     ]
    }
   ],
   "source": [
    "from pyspark.ml import Pipeline\n",
    "from pyspark.ml.feature import StringIndexer\n",
    "\n",
    "indexers = [StringIndexer(inputCol=column, outputCol=column+\"_index\").fit(test_data) for column in list(set([\"Age\", \"Gender\",\"City_Category\", \"Stay_In_Current_City_Years\", \"Occupation\"]))]\n",
    "\n",
    "pipeline = Pipeline(stages=indexers)\n",
    "test_data_new = pipeline.fit(test_data).transform(test_data)\n",
    "\n",
    "test_data_new.show()"
   ]
  },
  {
   "cell_type": "markdown",
   "id": "339a3912",
   "metadata": {},
   "source": [
    "#### Making Product IDs into indexes"
   ]
  },
  {
   "cell_type": "code",
   "execution_count": 66,
   "id": "247eff87",
   "metadata": {},
   "outputs": [],
   "source": [
    "from pyspark.ml.feature import StringIndexer\n",
    "plan_indexer = StringIndexer(inputCol = 'Product_ID', outputCol = 'productid')\n",
    "labeller = plan_indexer.fit(train_data_new)"
   ]
  },
  {
   "cell_type": "code",
   "execution_count": 67,
   "id": "0e2a6c62",
   "metadata": {},
   "outputs": [],
   "source": [
    "train1 = labeller.transform(train_data_new)\n",
    "test1 = labeller.transform(test_data_new)"
   ]
  },
  {
   "cell_type": "markdown",
   "id": "14261920",
   "metadata": {},
   "source": [
    "#### Prediction"
   ]
  },
  {
   "cell_type": "markdown",
   "id": "ed2902a0",
   "metadata": {},
   "source": [
    "#### Getting data reading for the model"
   ]
  },
  {
   "cell_type": "code",
   "execution_count": 68,
   "id": "ff72e55a",
   "metadata": {},
   "outputs": [],
   "source": [
    "from pyspark.ml.feature import RFormula\n",
    "df_formula = \"Purchase ~ Age+ Occupation +City_Category+Stay_In_Current_City_Years+Product_Category_1+Product_Category_2+ Product_Category_3 + Gender\"\n",
    "formula = RFormula(formula=df_formula,featuresCol=\"features\",labelCol=\"label\")"
   ]
  },
  {
   "cell_type": "code",
   "execution_count": 69,
   "id": "404771f4",
   "metadata": {},
   "outputs": [],
   "source": [
    "t1 = formula.fit(train1)\n",
    "train_1 = t1.transform(train1)\n",
    "test_1 = t1.transform(test1)"
   ]
  },
  {
   "cell_type": "code",
   "execution_count": 70,
   "id": "9eb8d601",
   "metadata": {},
   "outputs": [
    {
     "name": "stdout",
     "output_type": "stream",
     "text": [
      "+--------------------+\n",
      "|            features|\n",
      "+--------------------+\n",
      "|(17,[6,10,13,14,1...|\n",
      "|(17,[6,10,13,14,1...|\n",
      "|(17,[6,10,13,14,1...|\n",
      "|(17,[6,10,13,14,1...|\n",
      "|(17,[5,6,8,12,13,...|\n",
      "|(17,[0,6,11,13,14...|\n",
      "|(17,[3,6,7,10,13,...|\n",
      "|(17,[3,6,7,10,13,...|\n",
      "|(17,[3,6,7,10,13,...|\n",
      "|(17,[0,6,9,13,14,...|\n",
      "|(17,[0,6,9,13,14,...|\n",
      "|(17,[0,6,9,13,14,...|\n",
      "|(17,[0,6,9,13,14,...|\n",
      "|(17,[0,6,9,13,14,...|\n",
      "|(17,[4,6,9,13,14,...|\n",
      "|(17,[4,6,9,13,14,...|\n",
      "|(17,[4,6,9,13,14,...|\n",
      "|(17,[4,6,9,13,14,...|\n",
      "|(17,[1,6,7,9,13,1...|\n",
      "|(17,[0,6,8,12,13,...|\n",
      "+--------------------+\n",
      "only showing top 20 rows\n",
      "\n",
      "+-------+\n",
      "|  label|\n",
      "+-------+\n",
      "| 8370.0|\n",
      "|15200.0|\n",
      "| 1422.0|\n",
      "| 1057.0|\n",
      "| 7969.0|\n",
      "|15227.0|\n",
      "|19215.0|\n",
      "|15854.0|\n",
      "|15686.0|\n",
      "| 7871.0|\n",
      "| 5254.0|\n",
      "| 3957.0|\n",
      "| 6073.0|\n",
      "|15665.0|\n",
      "| 5378.0|\n",
      "| 2079.0|\n",
      "|13055.0|\n",
      "| 8851.0|\n",
      "|11788.0|\n",
      "|19614.0|\n",
      "+-------+\n",
      "only showing top 20 rows\n",
      "\n"
     ]
    }
   ],
   "source": [
    "# See Results\n",
    "train_1.select('features').show()\n",
    "train_1.select('label').show()"
   ]
  },
  {
   "cell_type": "code",
   "execution_count": 71,
   "id": "01fb9408",
   "metadata": {},
   "outputs": [
    {
     "data": {
      "text/plain": [
       "550068"
      ]
     },
     "execution_count": 71,
     "metadata": {},
     "output_type": "execute_result"
    }
   ],
   "source": [
    "train_1.select('purchase').count()"
   ]
  },
  {
   "cell_type": "code",
   "execution_count": 72,
   "id": "5db85f0f",
   "metadata": {},
   "outputs": [
    {
     "data": {
      "text/plain": [
       "550068"
      ]
     },
     "execution_count": 72,
     "metadata": {},
     "output_type": "execute_result"
    }
   ],
   "source": [
    "train_1.select('purchase').count()"
   ]
  },
  {
   "cell_type": "markdown",
   "id": "bc9036de",
   "metadata": {},
   "source": [
    "#### Model"
   ]
  },
  {
   "cell_type": "code",
   "execution_count": 73,
   "id": "750bb9bb",
   "metadata": {},
   "outputs": [],
   "source": [
    "train_cv, test_cv = train_1.randomSplit([0.7, 0.3])"
   ]
  },
  {
   "cell_type": "code",
   "execution_count": null,
   "id": "4abc7bb4",
   "metadata": {},
   "outputs": [],
   "source": [
    "from pyspark.ml.regression import RandomForestRegressor\n",
    "from pyspark.ml.evaluation import RegressionEvaluator\n",
    "evaluator = RegressionEvaluator()"
   ]
  },
  {
   "cell_type": "code",
   "execution_count": 75,
   "id": "9d6d15ad",
   "metadata": {},
   "outputs": [],
   "source": [
    "    mean_se = []\n",
    "    num_trees = []\n",
    "    depth_type = []\n",
    "    for trees in range(3,7):\n",
    "        for depth in range(5,11):\n",
    "            rf = RandomForestRegressor(numTrees=trees, maxDepth=depth, seed = 1)\n",
    "            model_1 = rf.fit(train_cv)\n",
    "            predictions = model_1.transform(test_cv)\n",
    "            mse = evaluator.evaluate(predictions,{evaluator.metricName:\"mse\" })\n",
    "            mean_se.append(np.sqrt(mse))\n",
    "            num_trees.append(trees)\n",
    "            depth_type.append(depth)"
   ]
  },
  {
   "cell_type": "markdown",
   "id": "c3e9d119",
   "metadata": {},
   "source": [
    "#### Grid Search"
   ]
  },
  {
   "cell_type": "code",
   "execution_count": 76,
   "id": "7239fa59",
   "metadata": {},
   "outputs": [],
   "source": [
    "spark_grid_search = pd.DataFrame({'depth': depth, 'num_trees': num_trees, 'mean_se': mean_se})\\\n",
    ".sort_values('mean_se', ascending = True)[['depth', 'num_trees', 'mean_se']].reset_index(drop = True)"
   ]
  },
  {
   "cell_type": "code",
   "execution_count": 80,
   "id": "da6efa8c",
   "metadata": {},
   "outputs": [],
   "source": [
    "rf = RandomForestRegressor(numTrees=5, maxDepth=11, seed = 1)\n",
    "model_1 = rf.fit(train_cv)\n",
    "predictions = model_1.transform(test_cv)\n",
    "mse = evaluator.evaluate(predictions,{evaluator.metricName:\"mse\" })"
   ]
  },
  {
   "cell_type": "code",
   "execution_count": 81,
   "id": "b93aadcd",
   "metadata": {},
   "outputs": [
    {
     "data": {
      "text/plain": [
       "(3320.145272090306, 11023364.627783613)"
      ]
     },
     "execution_count": 81,
     "metadata": {},
     "output_type": "execute_result"
    }
   ],
   "source": [
    "evaluator = RegressionEvaluator()\n",
    "mse = evaluator.evaluate(predictions,{evaluator.metricName:\"mse\" })\n",
    "import numpy as np\n",
    "np.sqrt(mse), mse"
   ]
  },
  {
   "cell_type": "code",
   "execution_count": 82,
   "id": "c8b73ab1",
   "metadata": {},
   "outputs": [],
   "source": [
    "model = rf.fit(train_1)\n",
    "predictions1 = model.transform(test_1)"
   ]
  },
  {
   "cell_type": "code",
   "execution_count": 83,
   "id": "9ba1b269",
   "metadata": {},
   "outputs": [],
   "source": [
    "df = predictions1.selectExpr(\"User_ID as User_ID\", \"Product_ID as Product_ID\", 'prediction as Purchase')\n",
    "df.toPandas().to_csv('black_friday_results.csv')"
   ]
  }
 ],
 "metadata": {
  "kernelspec": {
   "display_name": "Python 3 (ipykernel)",
   "language": "python",
   "name": "python3"
  },
  "language_info": {
   "codemirror_mode": {
    "name": "ipython",
    "version": 3
   },
   "file_extension": ".py",
   "mimetype": "text/x-python",
   "name": "python",
   "nbconvert_exporter": "python",
   "pygments_lexer": "ipython3",
   "version": "3.9.13"
  }
 },
 "nbformat": 4,
 "nbformat_minor": 5
}
